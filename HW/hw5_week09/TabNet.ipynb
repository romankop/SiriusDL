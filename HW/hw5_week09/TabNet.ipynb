{
 "cells": [
  {
   "cell_type": "markdown",
   "metadata": {},
   "source": [
    "Deadline до **22.06.2021 23:59**"
   ]
  },
  {
   "cell_type": "markdown",
   "metadata": {},
   "source": [
    "# Обучение TabNet"
   ]
  },
  {
   "cell_type": "markdown",
   "metadata": {},
   "source": [
    "1. Реализовать архитектуру TabNet (см. папку TabNet в week08_09).\n",
    "2. Обучить на датасете adult, на котором обучали DeepFM.\n",
    "3. Показать графики обучения, точности на выборках."
   ]
  },
  {
   "cell_type": "code",
   "execution_count": 1,
   "metadata": {},
   "outputs": [
    {
     "name": "stdout",
     "output_type": "stream",
     "text": [
      "1.6.0+cpu\n"
     ]
    }
   ],
   "source": [
    "import torch\n",
    "print(torch.__version__)\n",
    "\n",
    "import warnings\n",
    "warnings.filterwarnings(\"ignore\")\n",
    "\n",
    "import torch.optim as optim\n",
    "import torch.utils.data as data_utils\n",
    "\n",
    "from torch.utils.tensorboard import SummaryWriter\n",
    "%load_ext tensorboard\n",
    "from pytorch_lightning.metrics import Accuracy\n",
    "\n",
    "from network import TabNet\n",
    "from data_loader import CustomDataset\n",
    "from dataset_utils import preprocessing\n",
    "from train import Tab\n",
    "\n",
    "import pickle\n",
    "import pandas as pd\n",
    "import numpy as np\n",
    "import matplotlib.pyplot as plt\n",
    "%matplotlib inline"
   ]
  },
  {
   "cell_type": "code",
   "execution_count": 2,
   "metadata": {},
   "outputs": [],
   "source": [
    "preprocessing()"
   ]
  },
  {
   "cell_type": "code",
   "execution_count": 6,
   "metadata": {},
   "outputs": [
    {
     "name": "stdout",
     "output_type": "stream",
     "text": [
      "Run train ...\n",
      "EPOCH 0 STEP 20 : train_loss: 0.661789 train_acc: 0.656250\n",
      "EPOCH 0 STEP 40 : train_loss: 0.657768 train_acc: 0.671875\n",
      "EPOCH 0 : valid_acc: 0.696581\n",
      "EPOCH 1 STEP 60 : train_loss: 0.639519 train_acc: 0.683594\n",
      "EPOCH 1 STEP 80 : train_loss: 0.641212 train_acc: 0.701172\n",
      "EPOCH 1 : valid_acc: 0.743590\n",
      "EPOCH 2 STEP 100 : train_loss: 0.642303 train_acc: 0.695312\n",
      "EPOCH 2 STEP 120 : train_loss: 0.634967 train_acc: 0.712891\n",
      "EPOCH 2 : valid_acc: 0.752137\n",
      "EPOCH 3 STEP 140 : train_loss: 0.628073 train_acc: 0.722656\n",
      "EPOCH 3 STEP 160 : train_loss: 0.617243 train_acc: 0.753906\n",
      "EPOCH 3 : valid_acc: 0.709402\n",
      "EPOCH 4 STEP 180 : train_loss: 0.618652 train_acc: 0.742188\n",
      "EPOCH 4 STEP 200 : train_loss: 0.625315 train_acc: 0.720703\n",
      "EPOCH 4 : valid_acc: 0.799145\n",
      "EPOCH 5 STEP 220 : train_loss: 0.636430 train_acc: 0.685547\n",
      "EPOCH 5 STEP 240 : train_loss: 0.641018 train_acc: 0.689453\n",
      "EPOCH 5 : valid_acc: 0.730769\n",
      "EPOCH 6 STEP 260 : train_loss: 0.616501 train_acc: 0.730469\n",
      "EPOCH 6 STEP 280 : train_loss: 0.603762 train_acc: 0.750000\n",
      "EPOCH 6 : valid_acc: 0.705128\n",
      "EPOCH 7 STEP 300 : train_loss: 0.604806 train_acc: 0.751953\n",
      "EPOCH 7 STEP 320 : train_loss: 0.605932 train_acc: 0.732422\n",
      "EPOCH 7 : valid_acc: 0.722222\n",
      "EPOCH 8 STEP 340 : train_loss: 0.612520 train_acc: 0.726562\n",
      "EPOCH 8 STEP 360 : train_loss: 0.607815 train_acc: 0.746094\n",
      "EPOCH 8 : valid_acc: 0.803419\n",
      "EPOCH 9 STEP 380 : train_loss: 0.594076 train_acc: 0.755859\n",
      "EPOCH 9 STEP 400 : train_loss: 0.605807 train_acc: 0.730469\n",
      "EPOCH 9 : valid_acc: 0.713675\n",
      "EPOCH 10 STEP 420 : train_loss: 0.598927 train_acc: 0.742188\n",
      "EPOCH 10 STEP 440 : train_loss: 0.586896 train_acc: 0.751953\n",
      "EPOCH 10 : valid_acc: 0.717949\n",
      "EPOCH 11 STEP 460 : train_loss: 0.608176 train_acc: 0.712891\n",
      "EPOCH 11 STEP 480 : train_loss: 0.586852 train_acc: 0.751953\n",
      "EPOCH 11 : valid_acc: 0.743590\n",
      "EPOCH 12 STEP 500 : train_loss: 0.594068 train_acc: 0.736328\n",
      "EPOCH 12 STEP 520 : train_loss: 0.596613 train_acc: 0.744141\n",
      "EPOCH 12 : valid_acc: 0.756410\n",
      "EPOCH 13 STEP 540 : train_loss: 0.603132 train_acc: 0.718750\n",
      "EPOCH 13 STEP 560 : train_loss: 0.581867 train_acc: 0.751953\n",
      "EPOCH 13 : valid_acc: 0.692308\n",
      "EPOCH 14 STEP 580 : train_loss: 0.586754 train_acc: 0.746094\n",
      "EPOCH 14 STEP 600 : train_loss: 0.582642 train_acc: 0.740234\n",
      "EPOCH 14 : valid_acc: 0.726496\n",
      "EPOCH 15 STEP 620 : train_loss: 0.617662 train_acc: 0.695312\n",
      "EPOCH 15 STEP 640 : train_loss: 0.587407 train_acc: 0.757812\n",
      "EPOCH 15 : valid_acc: 0.722222\n",
      "EPOCH 16 STEP 660 : train_loss: 0.582128 train_acc: 0.746094\n",
      "EPOCH 16 STEP 680 : train_loss: 0.573273 train_acc: 0.750000\n",
      "EPOCH 16 : valid_acc: 0.717949\n",
      "EPOCH 17 STEP 700 : train_loss: 0.573473 train_acc: 0.753906\n",
      "EPOCH 17 STEP 720 : train_loss: 0.601461 train_acc: 0.718750\n",
      "EPOCH 17 : valid_acc: 0.756410\n",
      "EPOCH 18 STEP 740 : train_loss: 0.613601 train_acc: 0.691406\n",
      "EPOCH 18 STEP 760 : train_loss: 0.593595 train_acc: 0.738281\n",
      "EPOCH 18 : valid_acc: 0.764957\n",
      "EPOCH 19 STEP 780 : train_loss: 0.574084 train_acc: 0.751953\n",
      "EPOCH 19 STEP 800 : train_loss: 0.562450 train_acc: 0.769531\n",
      "EPOCH 19 STEP 820 : train_loss: 0.575259 train_acc: 0.739316\n",
      "EPOCH 19 : valid_acc: 0.739316\n"
     ]
    }
   ],
   "source": [
    "tab = Tab()\n",
    "tab.run_train()"
   ]
  },
  {
   "cell_type": "code",
   "execution_count": 7,
   "metadata": {},
   "outputs": [
    {
     "data": {
      "text/html": [
       "\n",
       "      <iframe id=\"tensorboard-frame-e8e6ffec3e548b81\" width=\"100%\" height=\"800\" frameborder=\"0\">\n",
       "      </iframe>\n",
       "      <script>\n",
       "        (function() {\n",
       "          const frame = document.getElementById(\"tensorboard-frame-e8e6ffec3e548b81\");\n",
       "          const url = new URL(\"/\", window.location);\n",
       "          const port = 6006;\n",
       "          if (port) {\n",
       "            url.port = port;\n",
       "          }\n",
       "          frame.src = url;\n",
       "        })();\n",
       "      </script>\n",
       "    "
      ],
      "text/plain": [
       "<IPython.core.display.HTML object>"
      ]
     },
     "metadata": {},
     "output_type": "display_data"
    }
   ],
   "source": [
    "%tensorboard --logdir logs"
   ]
  }
 ],
 "metadata": {
  "kernelspec": {
   "display_name": "Python 3",
   "language": "python",
   "name": "python3"
  },
  "language_info": {
   "codemirror_mode": {
    "name": "ipython",
    "version": 3
   },
   "file_extension": ".py",
   "mimetype": "text/x-python",
   "name": "python",
   "nbconvert_exporter": "python",
   "pygments_lexer": "ipython3",
   "version": "3.8.5"
  }
 },
 "nbformat": 4,
 "nbformat_minor": 4
}
