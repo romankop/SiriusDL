{
 "cells": [
  {
   "cell_type": "markdown",
   "metadata": {},
   "source": [
    "Deadline до **22.06.2021 23:59**"
   ]
  },
  {
   "cell_type": "markdown",
   "metadata": {},
   "source": [
    "# Обучение TabNet"
   ]
  },
  {
   "cell_type": "markdown",
   "metadata": {},
   "source": [
    "1. Реализовать архитектуру TabNet (см. папку TabNet в week08_09).\n",
    "2. Обучить на датасете adult, на котором обучали DeepFM.\n",
    "3. Показать графики обучения, точности на выборках."
   ]
  },
  {
   "cell_type": "code",
   "execution_count": 1,
   "metadata": {},
   "outputs": [
    {
     "name": "stdout",
     "output_type": "stream",
     "text": [
      "1.6.0+cpu\n"
     ]
    }
   ],
   "source": [
    "import torch\n",
    "print(torch.__version__)\n",
    "\n",
    "import warnings\n",
    "warnings.filterwarnings(\"ignore\")\n",
    "\n",
    "import torch.optim as optim\n",
    "import torch.utils.data as data_utils\n",
    "\n",
    "from torch.utils.tensorboard import SummaryWriter\n",
    "%load_ext tensorboard\n",
    "from pytorch_lightning.metrics import Accuracy\n",
    "\n",
    "from network import TabNet\n",
    "from data_loader import CustomDataset\n",
    "from dataset_utils import preprocessing\n",
    "from train import Tab\n",
    "\n",
    "import pickle\n",
    "import pandas as pd\n",
    "import numpy as np\n",
    "import matplotlib.pyplot as plt\n",
    "%matplotlib inline"
   ]
  },
  {
   "cell_type": "code",
   "execution_count": 2,
   "metadata": {},
   "outputs": [],
   "source": [
    "preprocessing()"
   ]
  },
  {
   "cell_type": "code",
   "execution_count": 3,
   "metadata": {},
   "outputs": [
    {
     "name": "stdout",
     "output_type": "stream",
     "text": [
      "Run train ...\n",
      "EPOCH 0 STEP 20 : train_loss: 0.706476 train_roc_auc: 0.522350\n",
      "EPOCH 0 STEP 40 : train_loss: 0.693616 train_roc_auc: 0.516111\n",
      "EPOCH 0 : valid_roc_auc: 0.507430\n",
      "EPOCH 1 STEP 60 : train_loss: 0.667704 train_roc_auc: 0.592122\n",
      "EPOCH 1 STEP 80 : train_loss: 0.678843 train_roc_auc: 0.544139\n",
      "EPOCH 1 : valid_roc_auc: 0.543362\n",
      "EPOCH 2 STEP 100 : train_loss: 0.640607 train_roc_auc: 0.620427\n",
      "EPOCH 2 STEP 120 : train_loss: 0.616681 train_roc_auc: 0.710453\n",
      "EPOCH 2 : valid_roc_auc: 0.567695\n",
      "EPOCH 3 STEP 140 : train_loss: 0.612138 train_roc_auc: 0.693242\n",
      "EPOCH 3 STEP 160 : train_loss: 0.602201 train_roc_auc: 0.703383\n",
      "EPOCH 3 : valid_roc_auc: 0.598012\n",
      "EPOCH 4 STEP 180 : train_loss: 0.591517 train_roc_auc: 0.700637\n",
      "EPOCH 4 STEP 200 : train_loss: 0.578915 train_roc_auc: 0.745691\n",
      "EPOCH 4 : valid_roc_auc: 0.599383\n",
      "EPOCH 5 STEP 220 : train_loss: 0.582027 train_roc_auc: 0.711094\n",
      "EPOCH 5 STEP 240 : train_loss: 0.569309 train_roc_auc: 0.747641\n",
      "EPOCH 5 : valid_roc_auc: 0.614770\n",
      "EPOCH 6 STEP 260 : train_loss: 0.567112 train_roc_auc: 0.754298\n",
      "EPOCH 6 STEP 280 : train_loss: 0.559098 train_roc_auc: 0.759611\n",
      "EPOCH 6 : valid_roc_auc: 0.612370\n",
      "EPOCH 7 STEP 300 : train_loss: 0.567129 train_roc_auc: 0.713783\n",
      "EPOCH 7 STEP 320 : train_loss: 0.568984 train_roc_auc: 0.725840\n",
      "EPOCH 7 : valid_roc_auc: 0.606729\n",
      "EPOCH 8 STEP 340 : train_loss: 0.553071 train_roc_auc: 0.736155\n",
      "EPOCH 8 STEP 360 : train_loss: 0.542083 train_roc_auc: 0.766241\n",
      "EPOCH 8 : valid_roc_auc: 0.610954\n",
      "EPOCH 9 STEP 380 : train_loss: 0.536297 train_roc_auc: 0.764217\n",
      "EPOCH 9 STEP 400 : train_loss: 0.554547 train_roc_auc: 0.739928\n",
      "EPOCH 9 : valid_roc_auc: 0.604260\n",
      "EPOCH 10 STEP 420 : train_loss: 0.539546 train_roc_auc: 0.773352\n",
      "EPOCH 10 STEP 440 : train_loss: 0.537799 train_roc_auc: 0.779112\n",
      "EPOCH 10 : valid_roc_auc: 0.594831\n",
      "EPOCH 11 STEP 460 : train_loss: 0.546862 train_roc_auc: 0.743327\n",
      "EPOCH 11 STEP 480 : train_loss: 0.522634 train_roc_auc: 0.794111\n",
      "EPOCH 11 : valid_roc_auc: 0.585897\n",
      "EPOCH 12 STEP 500 : train_loss: 0.502843 train_roc_auc: 0.819218\n",
      "EPOCH 12 STEP 520 : train_loss: 0.512350 train_roc_auc: 0.786354\n",
      "EPOCH 12 : valid_roc_auc: 0.587023\n",
      "EPOCH 13 STEP 540 : train_loss: 0.486416 train_roc_auc: 0.823412\n",
      "EPOCH 13 STEP 560 : train_loss: 0.512627 train_roc_auc: 0.794020\n",
      "EPOCH 13 : valid_roc_auc: 0.582865\n",
      "EPOCH 14 STEP 580 : train_loss: 0.514432 train_roc_auc: 0.777900\n",
      "EPOCH 14 STEP 600 : train_loss: 0.506601 train_roc_auc: 0.779418\n",
      "EPOCH 14 : valid_roc_auc: 0.581664\n",
      "EPOCH 15 STEP 620 : train_loss: 0.511647 train_roc_auc: 0.782760\n",
      "EPOCH 15 STEP 640 : train_loss: 0.491909 train_roc_auc: 0.793118\n",
      "EPOCH 15 : valid_roc_auc: 0.584696\n",
      "EPOCH 16 STEP 660 : train_loss: 0.509796 train_roc_auc: 0.785937\n",
      "EPOCH 16 STEP 680 : train_loss: 0.495022 train_roc_auc: 0.802260\n",
      "EPOCH 16 : valid_roc_auc: 0.578299\n",
      "EPOCH 17 STEP 700 : train_loss: 0.503976 train_roc_auc: 0.787043\n",
      "EPOCH 17 STEP 720 : train_loss: 0.500961 train_roc_auc: 0.815376\n",
      "EPOCH 17 : valid_roc_auc: 0.583887\n",
      "EPOCH 18 STEP 740 : train_loss: 0.480162 train_roc_auc: 0.766288\n",
      "EPOCH 18 STEP 760 : train_loss: 0.496994 train_roc_auc: 0.801080\n",
      "EPOCH 18 : valid_roc_auc: 0.590401\n",
      "EPOCH 19 STEP 780 : train_loss: 0.457495 train_roc_auc: 0.825782\n",
      "EPOCH 19 STEP 800 : train_loss: 0.470017 train_roc_auc: 0.834726\n",
      "EPOCH 19 STEP 820 : train_loss: 0.522608 train_roc_auc: 0.749294\n",
      "EPOCH 19 : valid_roc_auc: 0.593154\n"
     ]
    }
   ],
   "source": [
    "tab = Tab()\n",
    "tab.run_train()"
   ]
  }
 ],
 "metadata": {
  "kernelspec": {
   "display_name": "Python 3",
   "language": "python",
   "name": "python3"
  },
  "language_info": {
   "codemirror_mode": {
    "name": "ipython",
    "version": 3
   },
   "file_extension": ".py",
   "mimetype": "text/x-python",
   "name": "python",
   "nbconvert_exporter": "python",
   "pygments_lexer": "ipython3",
   "version": "3.8.5"
  }
 },
 "nbformat": 4,
 "nbformat_minor": 4
}
