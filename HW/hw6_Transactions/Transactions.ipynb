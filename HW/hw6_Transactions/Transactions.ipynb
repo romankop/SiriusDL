{
 "cells": [
  {
   "cell_type": "markdown",
   "metadata": {},
   "source": [
    "Скачать датасет по транзакциям по следующей ссылке: https://ibm.ent.box.com/v/tabformer-data/folder/130747715605"
   ]
  },
  {
   "cell_type": "markdown",
   "metadata": {},
   "source": [
    "Скачать датасет, разделенный на train, valid, test: https://drive.google.com/file/d/17LCDtr60TU3E4GnGuQlzDp6CFghL16_M/view?usp=sharing "
   ]
  },
  {
   "cell_type": "markdown",
   "metadata": {},
   "source": [
    "1. Решаем задачу бинарной классификации: является ли клиент фродовым. Транзакции для каждого клиента имеют таргет 'Is Fraud?' и он будет одинкаовым для каждой транзакции клиента.\n",
    "2. Необходимо провести feature engineering\n",
    "3. Выбрать подходящую архитектуру нейронной сети.\n",
    "4. Обучить сеть\n",
    "5. Показать графики обучения и точности модели"
   ]
  },
  {
   "cell_type": "code",
   "execution_count": 1,
   "metadata": {},
   "outputs": [
    {
     "data": {
      "text/plain": [
       "289"
      ]
     },
     "execution_count": 1,
     "metadata": {},
     "output_type": "execute_result"
    }
   ],
   "source": [
    "import gc\n",
    "gc.collect()"
   ]
  },
  {
   "cell_type": "code",
   "execution_count": 1,
   "metadata": {},
   "outputs": [
    {
     "name": "stdout",
     "output_type": "stream",
     "text": [
      "start\n",
      "data collected\n",
      "features generated\n",
      "train generated\n",
      "valid generated\n",
      "test generated\n"
     ]
    }
   ],
   "source": [
    "from dataset_utils import preprocessing\n",
    "preprocessing(r\"C:\\Users\\Redmi\\Downloads\\transactions_train_valid_test_splits.pickle\")"
   ]
  },
  {
   "cell_type": "code",
   "execution_count": 1,
   "metadata": {},
   "outputs": [],
   "source": [
    "from network import LSTM_Net, LSTM_Tab_Net, Tab_LSTM_Net, Conv_Net, Tab_Conv_Net, Conv_Tab_Net\n",
    "from train import Model_Pipe"
   ]
  },
  {
   "cell_type": "code",
   "execution_count": 2,
   "metadata": {},
   "outputs": [],
   "source": [
    "hyperparams = {'lr': 1e-3, 'batch_size': 128, 'epochs': 10}\n",
    "params = {'nrof_out_classes': 1, 'hidden_size': 20, 'emb_dim': 5}"
   ]
  },
  {
   "cell_type": "code",
   "execution_count": 3,
   "metadata": {
    "scrolled": false
   },
   "outputs": [
    {
     "name": "stdout",
     "output_type": "stream",
     "text": [
      "Run train ...\n",
      "EPOCH 0 STEP 5 : train_loss: 0.701495 train_roc_auc: 0.557659\n",
      "EPOCH 0 STEP 10 : train_loss: 0.691611 train_roc_auc: 0.604911\n",
      "EPOCH 0 : valid_roc_auc: 0.504341\n",
      "EPOCH 1 STEP 15 : train_loss: 0.690609 train_roc_auc: 0.560511\n",
      "EPOCH 1 STEP 20 : train_loss: 0.677521 train_roc_auc: 0.632201\n",
      "EPOCH 1 : valid_roc_auc: 0.481499\n",
      "EPOCH 2 STEP 25 : train_loss: 0.669128 train_roc_auc: 0.634359\n",
      "EPOCH 2 STEP 30 : train_loss: 0.657037 train_roc_auc: 0.671195\n",
      "EPOCH 2 : valid_roc_auc: 0.490181\n",
      "EPOCH 3 STEP 35 : train_loss: 0.637747 train_roc_auc: 0.719231\n",
      "EPOCH 3 STEP 40 : train_loss: 0.650785 train_roc_auc: 0.632395\n",
      "EPOCH 3 : valid_roc_auc: 0.605321\n",
      "EPOCH 4 STEP 45 : train_loss: 0.648049 train_roc_auc: 0.663014\n",
      "EPOCH 4 STEP 50 : train_loss: 0.630690 train_roc_auc: 0.666146\n",
      "EPOCH 4 STEP 55 : train_loss: 0.642258 train_roc_auc: 0.659847\n",
      "EPOCH 4 : valid_roc_auc: 0.630020\n",
      "EPOCH 5 STEP 60 : train_loss: 0.618633 train_roc_auc: 0.641473\n",
      "EPOCH 5 STEP 65 : train_loss: 0.602213 train_roc_auc: 0.725136\n",
      "EPOCH 5 : valid_roc_auc: 0.640605\n",
      "EPOCH 6 STEP 70 : train_loss: 0.596035 train_roc_auc: 0.719452\n",
      "EPOCH 6 STEP 75 : train_loss: 0.636763 train_roc_auc: 0.663263\n",
      "EPOCH 6 : valid_roc_auc: 0.646084\n",
      "EPOCH 7 STEP 80 : train_loss: 0.577984 train_roc_auc: 0.735154\n",
      "EPOCH 7 STEP 85 : train_loss: 0.591973 train_roc_auc: 0.778922\n",
      "EPOCH 7 : valid_roc_auc: 0.652444\n",
      "EPOCH 8 STEP 90 : train_loss: 0.627142 train_roc_auc: 0.698295\n",
      "EPOCH 8 STEP 95 : train_loss: 0.560507 train_roc_auc: 0.774626\n",
      "EPOCH 8 : valid_roc_auc: 0.652584\n",
      "EPOCH 9 STEP 100 : train_loss: 0.581131 train_roc_auc: 0.745128\n",
      "EPOCH 9 STEP 105 : train_loss: 0.615605 train_roc_auc: 0.702496\n",
      "EPOCH 9 STEP 110 : train_loss: 0.540523 train_roc_auc: 0.786370\n",
      "EPOCH 9 : valid_roc_auc: 0.660616\n",
      "Test ROC-AUC: 0.660616\n"
     ]
    }
   ],
   "source": [
    "pipeline = Model_Pipe(LSTM_Net, params, hyperparams, 'very_simple_lstm')\n",
    "pipeline.run_train()"
   ]
  },
  {
   "cell_type": "code",
   "execution_count": 2,
   "metadata": {},
   "outputs": [],
   "source": [
    "hyperparams = {'lr': 1e-3, 'batch_size': 128, 'epochs': 10}\n",
    "params = {'nrof_out_classes': 1, 'hidden_size': 20, 'emb_dim': 5,\n",
    "         'n_steps': 2, 'slice_ratio': 0.5, 'output_size_ratio': 1, 'nrof_glu': 2}"
   ]
  },
  {
   "cell_type": "code",
   "execution_count": 3,
   "metadata": {},
   "outputs": [
    {
     "name": "stdout",
     "output_type": "stream",
     "text": [
      "Run train ...\n",
      "EPOCH 0 STEP 5 : train_loss: 0.712315 train_roc_auc: 0.445320\n",
      "EPOCH 0 STEP 10 : train_loss: 0.697161 train_roc_auc: 0.603695\n",
      "EPOCH 0 : valid_roc_auc: 0.513580\n",
      "EPOCH 1 STEP 15 : train_loss: 0.693942 train_roc_auc: 0.536184\n",
      "EPOCH 1 STEP 20 : train_loss: 0.701739 train_roc_auc: 0.589608\n",
      "EPOCH 1 : valid_roc_auc: 0.512071\n",
      "EPOCH 2 STEP 25 : train_loss: 0.710364 train_roc_auc: 0.431880\n",
      "EPOCH 2 STEP 30 : train_loss: 0.688919 train_roc_auc: 0.572770\n",
      "EPOCH 2 : valid_roc_auc: 0.480709\n",
      "EPOCH 3 STEP 35 : train_loss: 0.688210 train_roc_auc: 0.550201\n",
      "EPOCH 3 STEP 40 : train_loss: 0.681358 train_roc_auc: 0.626364\n",
      "EPOCH 3 : valid_roc_auc: 0.503343\n",
      "EPOCH 4 STEP 45 : train_loss: 0.697915 train_roc_auc: 0.507170\n",
      "EPOCH 4 STEP 50 : train_loss: 0.680213 train_roc_auc: 0.614583\n",
      "EPOCH 4 STEP 55 : train_loss: 0.690025 train_roc_auc: 0.541528\n",
      "EPOCH 4 : valid_roc_auc: 0.476531\n",
      "EPOCH 5 STEP 60 : train_loss: 0.676713 train_roc_auc: 0.649418\n",
      "EPOCH 5 STEP 65 : train_loss: 0.690933 train_roc_auc: 0.504790\n",
      "EPOCH 5 : valid_roc_auc: 0.514485\n",
      "EPOCH 6 STEP 70 : train_loss: 0.689844 train_roc_auc: 0.559568\n",
      "EPOCH 6 STEP 75 : train_loss: 0.676735 train_roc_auc: 0.563582\n",
      "EPOCH 6 : valid_roc_auc: 0.492595\n",
      "EPOCH 7 STEP 80 : train_loss: 0.668471 train_roc_auc: 0.647402\n",
      "EPOCH 7 STEP 85 : train_loss: 0.675159 train_roc_auc: 0.648934\n",
      "EPOCH 7 : valid_roc_auc: 0.506105\n",
      "EPOCH 8 STEP 90 : train_loss: 0.682483 train_roc_auc: 0.536923\n",
      "EPOCH 8 STEP 95 : train_loss: 0.663599 train_roc_auc: 0.622443\n",
      "EPOCH 8 : valid_roc_auc: 0.490877\n",
      "EPOCH 9 STEP 100 : train_loss: 0.674370 train_roc_auc: 0.628428\n",
      "EPOCH 9 STEP 105 : train_loss: 0.673716 train_roc_auc: 0.585711\n",
      "EPOCH 9 STEP 110 : train_loss: 0.671677 train_roc_auc: 0.672308\n",
      "EPOCH 9 : valid_roc_auc: 0.516180\n",
      "Test ROC-AUC: 0.513951\n"
     ]
    }
   ],
   "source": [
    "pipeline = Model_Pipe(LSTM_Tab_Net, params, hyperparams, 'lstm_and_tabnet')\n",
    "pipeline.run_train()"
   ]
  },
  {
   "cell_type": "code",
   "execution_count": 2,
   "metadata": {},
   "outputs": [],
   "source": [
    "hyperparams = {'lr': 1e-3, 'batch_size': 128, 'epochs': 10}\n",
    "params = {'nrof_out_classes': 1, 'hidden_size': 20, 'emb_dim': 5, 'tab_hidden_size': 40,\n",
    "         'n_steps': 2, 'slice_ratio': 0.5, 'output_size_ratio': 1, 'nrof_glu': 2}"
   ]
  },
  {
   "cell_type": "code",
   "execution_count": 3,
   "metadata": {},
   "outputs": [
    {
     "name": "stdout",
     "output_type": "stream",
     "text": [
      "Run train ...\n",
      "EPOCH 0 STEP 5 : train_loss: 0.702131 train_roc_auc: 0.562247\n",
      "EPOCH 0 STEP 10 : train_loss: 0.690651 train_roc_auc: 0.471154\n",
      "EPOCH 0 : valid_roc_auc: 0.473977\n",
      "EPOCH 1 STEP 15 : train_loss: 0.675523 train_roc_auc: 0.595897\n",
      "EPOCH 1 STEP 20 : train_loss: 0.670593 train_roc_auc: 0.596129\n",
      "EPOCH 1 : valid_roc_auc: 0.507869\n",
      "EPOCH 2 STEP 25 : train_loss: 0.680782 train_roc_auc: 0.520270\n",
      "EPOCH 2 STEP 30 : train_loss: 0.662688 train_roc_auc: 0.653087\n",
      "EPOCH 2 : valid_roc_auc: 0.598635\n",
      "EPOCH 3 STEP 35 : train_loss: 0.672210 train_roc_auc: 0.565030\n",
      "EPOCH 3 STEP 40 : train_loss: 0.655345 train_roc_auc: 0.659919\n",
      "EPOCH 3 : valid_roc_auc: 0.620874\n",
      "EPOCH 4 STEP 45 : train_loss: 0.617319 train_roc_auc: 0.629100\n",
      "EPOCH 4 STEP 50 : train_loss: 0.628728 train_roc_auc: 0.646076\n",
      "EPOCH 4 STEP 55 : train_loss: 0.655883 train_roc_auc: 0.759677\n",
      "EPOCH 4 : valid_roc_auc: 0.656298\n",
      "EPOCH 5 STEP 60 : train_loss: 0.620143 train_roc_auc: 0.674708\n",
      "EPOCH 5 STEP 65 : train_loss: 0.640066 train_roc_auc: 0.630507\n",
      "EPOCH 5 : valid_roc_auc: 0.673430\n",
      "EPOCH 6 STEP 70 : train_loss: 0.611975 train_roc_auc: 0.681376\n",
      "EPOCH 6 STEP 75 : train_loss: 0.662288 train_roc_auc: 0.675980\n",
      "EPOCH 6 : valid_roc_auc: 0.676122\n",
      "EPOCH 7 STEP 80 : train_loss: 0.606748 train_roc_auc: 0.711485\n",
      "EPOCH 7 STEP 85 : train_loss: 0.658613 train_roc_auc: 0.661210\n",
      "EPOCH 7 : valid_roc_auc: 0.671015\n",
      "EPOCH 8 STEP 90 : train_loss: 0.601736 train_roc_auc: 0.723590\n",
      "EPOCH 8 STEP 95 : train_loss: 0.604098 train_roc_auc: 0.722472\n",
      "EPOCH 8 : valid_roc_auc: 0.673708\n",
      "EPOCH 9 STEP 100 : train_loss: 0.541815 train_roc_auc: 0.783819\n",
      "EPOCH 9 STEP 105 : train_loss: 0.543900 train_roc_auc: 0.786526\n",
      "EPOCH 9 STEP 110 : train_loss: 0.543362 train_roc_auc: 0.784959\n",
      "EPOCH 9 : valid_roc_auc: 0.685222\n",
      "Test ROC-AUC: 0.691954\n"
     ]
    }
   ],
   "source": [
    "pipeline = Model_Pipe(Tab_LSTM_Net, params, hyperparams, 'tabnet_and_lstm')\n",
    "pipeline.run_train()"
   ]
  },
  {
   "cell_type": "code",
   "execution_count": 2,
   "metadata": {},
   "outputs": [],
   "source": [
    "hyperparams = {'lr': 1e-3, 'batch_size': 128, 'epochs': 10}\n",
    "params = {'nrof_out_classes': 1, 'emb_dim': 5}"
   ]
  },
  {
   "cell_type": "code",
   "execution_count": 3,
   "metadata": {},
   "outputs": [
    {
     "name": "stdout",
     "output_type": "stream",
     "text": [
      "Run train ...\n",
      "EPOCH 0 STEP 5 : train_loss: 0.678102 train_roc_auc: 0.557292\n",
      "EPOCH 0 STEP 10 : train_loss: 0.680343 train_roc_auc: 0.567870\n",
      "EPOCH 0 : valid_roc_auc: 0.616719\n",
      "EPOCH 1 STEP 15 : train_loss: 0.661160 train_roc_auc: 0.620576\n",
      "EPOCH 1 STEP 20 : train_loss: 0.646415 train_roc_auc: 0.725897\n",
      "EPOCH 1 : valid_roc_auc: 0.658248\n",
      "EPOCH 2 STEP 25 : train_loss: 0.634156 train_roc_auc: 0.719946\n",
      "EPOCH 2 STEP 30 : train_loss: 0.638874 train_roc_auc: 0.696154\n",
      "EPOCH 2 : valid_roc_auc: 0.682297\n",
      "EPOCH 3 STEP 35 : train_loss: 0.638498 train_roc_auc: 0.681182\n",
      "EPOCH 3 STEP 40 : train_loss: 0.638136 train_roc_auc: 0.670294\n",
      "EPOCH 3 : valid_roc_auc: 0.685965\n",
      "EPOCH 4 STEP 45 : train_loss: 0.611980 train_roc_auc: 0.696699\n",
      "EPOCH 4 STEP 50 : train_loss: 0.626397 train_roc_auc: 0.707191\n",
      "EPOCH 4 STEP 55 : train_loss: 0.624154 train_roc_auc: 0.655391\n",
      "EPOCH 4 : valid_roc_auc: 0.686104\n",
      "EPOCH 5 STEP 60 : train_loss: 0.541713 train_roc_auc: 0.785417\n",
      "EPOCH 5 STEP 65 : train_loss: 0.596833 train_roc_auc: 0.740991\n",
      "EPOCH 5 : valid_roc_auc: 0.688101\n",
      "EPOCH 6 STEP 70 : train_loss: 0.607772 train_roc_auc: 0.722042\n",
      "EPOCH 6 STEP 75 : train_loss: 0.608092 train_roc_auc: 0.689935\n",
      "EPOCH 6 : valid_roc_auc: 0.694183\n",
      "EPOCH 7 STEP 80 : train_loss: 0.585806 train_roc_auc: 0.695212\n",
      "EPOCH 7 STEP 85 : train_loss: 0.566019 train_roc_auc: 0.784807\n",
      "EPOCH 7 : valid_roc_auc: 0.701704\n",
      "EPOCH 8 STEP 90 : train_loss: 0.534890 train_roc_auc: 0.822917\n",
      "EPOCH 8 STEP 95 : train_loss: 0.612115 train_roc_auc: 0.716812\n",
      "EPOCH 8 : valid_roc_auc: 0.706764\n",
      "EPOCH 9 STEP 100 : train_loss: 0.604833 train_roc_auc: 0.724277\n",
      "EPOCH 9 STEP 105 : train_loss: 0.583854 train_roc_auc: 0.780296\n",
      "EPOCH 9 STEP 110 : train_loss: 0.580718 train_roc_auc: 0.741468\n",
      "EPOCH 9 : valid_roc_auc: 0.708900\n",
      "Test ROC-AUC: 0.708900\n"
     ]
    }
   ],
   "source": [
    "pipeline = Model_Pipe(Conv_Net, params, hyperparams, 'simple_conv')\n",
    "pipeline.run_train()"
   ]
  },
  {
   "cell_type": "code",
   "execution_count": 2,
   "metadata": {},
   "outputs": [],
   "source": [
    "hyperparams = {'lr': 1e-3, 'batch_size': 128, 'epochs': 10}\n",
    "params = {'nrof_out_classes': 1, 'emb_dim': 5, 'tab_hidden_size': 40,\n",
    "         'n_steps': 2, 'slice_ratio': 0.5, 'output_size_ratio': 1, 'nrof_glu': 2}"
   ]
  },
  {
   "cell_type": "code",
   "execution_count": 3,
   "metadata": {},
   "outputs": [
    {
     "name": "stdout",
     "output_type": "stream",
     "text": [
      "Run train ...\n",
      "EPOCH 0 STEP 5 : train_loss: 0.681033 train_roc_auc: 0.402051\n",
      "EPOCH 0 STEP 10 : train_loss: 0.682387 train_roc_auc: 0.412830\n",
      "EPOCH 0 : valid_roc_auc: 0.419054\n",
      "EPOCH 1 STEP 15 : train_loss: 0.703075 train_roc_auc: 0.451977\n",
      "EPOCH 1 STEP 20 : train_loss: 0.678595 train_roc_auc: 0.507925\n",
      "EPOCH 1 : valid_roc_auc: 0.441107\n",
      "EPOCH 2 STEP 25 : train_loss: 0.653776 train_roc_auc: 0.615589\n",
      "EPOCH 2 STEP 30 : train_loss: 0.667648 train_roc_auc: 0.550256\n",
      "EPOCH 2 : valid_roc_auc: 0.423047\n",
      "EPOCH 3 STEP 35 : train_loss: 0.677582 train_roc_auc: 0.549182\n",
      "EPOCH 3 STEP 40 : train_loss: 0.656873 train_roc_auc: 0.625000\n",
      "EPOCH 3 : valid_roc_auc: 0.473002\n",
      "EPOCH 4 STEP 45 : train_loss: 0.616020 train_roc_auc: 0.707428\n",
      "EPOCH 4 STEP 50 : train_loss: 0.673513 train_roc_auc: 0.648050\n",
      "EPOCH 4 STEP 55 : train_loss: 0.661909 train_roc_auc: 0.693967\n",
      "EPOCH 4 : valid_roc_auc: 0.506523\n",
      "EPOCH 5 STEP 60 : train_loss: 0.675303 train_roc_auc: 0.770361\n",
      "EPOCH 5 STEP 65 : train_loss: 0.672112 train_roc_auc: 0.715215\n",
      "EPOCH 5 : valid_roc_auc: 0.541251\n",
      "EPOCH 6 STEP 70 : train_loss: 0.666529 train_roc_auc: 0.649798\n",
      "EPOCH 6 STEP 75 : train_loss: 0.644370 train_roc_auc: 0.672853\n",
      "EPOCH 6 : valid_roc_auc: 0.562282\n",
      "EPOCH 7 STEP 80 : train_loss: 0.672473 train_roc_auc: 0.731258\n",
      "EPOCH 7 STEP 85 : train_loss: 0.658129 train_roc_auc: 0.834835\n",
      "EPOCH 7 : valid_roc_auc: 0.584057\n",
      "EPOCH 8 STEP 90 : train_loss: 0.638468 train_roc_auc: 0.710938\n",
      "EPOCH 8 STEP 95 : train_loss: 0.669559 train_roc_auc: 0.753448\n",
      "EPOCH 8 : valid_roc_auc: 0.616649\n",
      "EPOCH 9 STEP 100 : train_loss: 0.619926 train_roc_auc: 0.836771\n",
      "EPOCH 9 STEP 105 : train_loss: 0.629351 train_roc_auc: 0.730513\n",
      "EPOCH 9 STEP 110 : train_loss: 0.619741 train_roc_auc: 0.802571\n",
      "EPOCH 9 : valid_roc_auc: 0.648266\n",
      "Test ROC-AUC: 0.652444\n"
     ]
    }
   ],
   "source": [
    "pipeline = Model_Pipe(Tab_Conv_Net, params, hyperparams, 'tabnet_and_conv')\n",
    "pipeline.run_train()"
   ]
  },
  {
   "cell_type": "code",
   "execution_count": 2,
   "metadata": {},
   "outputs": [],
   "source": [
    "hyperparams = {'lr': 1e-3, 'batch_size': 128, 'epochs': 10}\n",
    "params = {'nrof_out_classes': 1, 'emb_dim': 5,\n",
    "         'n_steps': 2, 'slice_ratio': 0.5, 'output_size_ratio': 1, 'nrof_glu': 2}"
   ]
  },
  {
   "cell_type": "code",
   "execution_count": 3,
   "metadata": {},
   "outputs": [
    {
     "name": "stdout",
     "output_type": "stream",
     "text": [
      "Run train ...\n",
      "EPOCH 0 STEP 5 : train_loss: 0.771422 train_roc_auc: 0.501282\n",
      "EPOCH 0 STEP 10 : train_loss: 0.763327 train_roc_auc: 0.528393\n",
      "EPOCH 0 : valid_roc_auc: 0.493245\n",
      "EPOCH 1 STEP 15 : train_loss: 0.740776 train_roc_auc: 0.505255\n",
      "EPOCH 1 STEP 20 : train_loss: 0.756155 train_roc_auc: 0.529099\n",
      "EPOCH 1 : valid_roc_auc: 0.460096\n",
      "EPOCH 2 STEP 25 : train_loss: 0.755890 train_roc_auc: 0.457092\n",
      "EPOCH 2 STEP 30 : train_loss: 0.734615 train_roc_auc: 0.547065\n",
      "EPOCH 2 : valid_roc_auc: 0.487511\n",
      "EPOCH 3 STEP 35 : train_loss: 0.737881 train_roc_auc: 0.496819\n",
      "EPOCH 3 STEP 40 : train_loss: 0.726111 train_roc_auc: 0.443452\n",
      "EPOCH 3 : valid_roc_auc: 0.521078\n",
      "EPOCH 4 STEP 45 : train_loss: 0.727368 train_roc_auc: 0.507104\n",
      "EPOCH 4 STEP 50 : train_loss: 0.712706 train_roc_auc: 0.546218\n",
      "EPOCH 4 STEP 55 : train_loss: 0.719358 train_roc_auc: 0.493571\n",
      "EPOCH 4 : valid_roc_auc: 0.437160\n",
      "EPOCH 5 STEP 60 : train_loss: 0.706351 train_roc_auc: 0.552312\n",
      "EPOCH 5 STEP 65 : train_loss: 0.722906 train_roc_auc: 0.499446\n",
      "EPOCH 5 : valid_roc_auc: 0.446957\n",
      "EPOCH 6 STEP 70 : train_loss: 0.720207 train_roc_auc: 0.450314\n",
      "EPOCH 6 STEP 75 : train_loss: 0.708208 train_roc_auc: 0.501795\n",
      "EPOCH 6 : valid_roc_auc: 0.455592\n",
      "EPOCH 7 STEP 80 : train_loss: 0.706029 train_roc_auc: 0.499874\n",
      "EPOCH 7 STEP 85 : train_loss: 0.701122 train_roc_auc: 0.514103\n",
      "EPOCH 7 : valid_roc_auc: 0.462974\n",
      "EPOCH 8 STEP 90 : train_loss: 0.681854 train_roc_auc: 0.589820\n",
      "EPOCH 8 STEP 95 : train_loss: 0.692563 train_roc_auc: 0.507953\n",
      "EPOCH 8 : valid_roc_auc: 0.481545\n",
      "EPOCH 9 STEP 100 : train_loss: 0.687723 train_roc_auc: 0.543213\n",
      "EPOCH 9 STEP 105 : train_loss: 0.690093 train_roc_auc: 0.540616\n",
      "EPOCH 9 STEP 110 : train_loss: 0.686932 train_roc_auc: 0.482634\n",
      "EPOCH 9 : valid_roc_auc: 0.435930\n",
      "Test ROC-AUC: 0.518153\n"
     ]
    }
   ],
   "source": [
    "pipeline = Model_Pipe(Conv_Tab_Net, params, hyperparams, 'conv_and_tabnet')\n",
    "pipeline.run_train()"
   ]
  },
  {
   "cell_type": "markdown",
   "metadata": {},
   "source": [
    "https://tensorboard.dev/experiment/FwVLWbWQRji3X9vLgyFzWg/"
   ]
  }
 ],
 "metadata": {
  "kernelspec": {
   "display_name": "Python 3",
   "language": "python",
   "name": "python3"
  },
  "language_info": {
   "codemirror_mode": {
    "name": "ipython",
    "version": 3
   },
   "file_extension": ".py",
   "mimetype": "text/x-python",
   "name": "python",
   "nbconvert_exporter": "python",
   "pygments_lexer": "ipython3",
   "version": "3.8.5"
  }
 },
 "nbformat": 4,
 "nbformat_minor": 4
}
