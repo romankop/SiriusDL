{
 "cells": [
  {
   "cell_type": "markdown",
   "metadata": {
    "id": "rMXazOuWOa6b"
   },
   "source": [
    "**Deadline** до 1 июня 2021 23:59"
   ]
  },
  {
   "cell_type": "markdown",
   "metadata": {
    "id": "3Xe44GGYOa6d"
   },
   "source": [
    "1. Обучить сеть DeepFM на бинарную задачу классифкации на датасете \"adult\".\n",
    "2. Обучающая и валидационная выборки лежат в папке data в week08 и сам проект в папке DeepFM.\n",
    "3. Перед обучением сети првоести анализ и предобработку данных.\n",
    "4. Выложить код и показать точность и графики обучения."
   ]
  },
  {
   "cell_type": "code",
   "execution_count": 1,
   "metadata": {
    "colab": {
     "base_uri": "https://localhost:8080/"
    },
    "id": "55C15LMjOa6e",
    "outputId": "de250b4b-b415-42a3-906e-83722906c769"
   },
   "outputs": [
    {
     "name": "stdout",
     "output_type": "stream",
     "text": [
      "1.6.0+cpu\n"
     ]
    }
   ],
   "source": [
    "import torch\n",
    "print(torch.__version__)\n",
    "\n",
    "import warnings\n",
    "warnings.filterwarnings(\"ignore\")\n",
    "\n",
    "import torch.optim as optim\n",
    "import torch.utils.data as data_utils\n",
    "\n",
    "from torch.utils.tensorboard import SummaryWriter\n",
    "%load_ext tensorboard\n",
    "from pytorch_lightning.metrics import Accuracy\n",
    "\n",
    "from network import DeepFMNet\n",
    "from data_loader import CustomDataset\n",
    "from dataset_utils import preprocessing\n",
    "from train import DeepFM\n",
    "\n",
    "import pickle\n",
    "import pandas as pd\n",
    "import numpy as np\n",
    "import matplotlib.pyplot as plt\n",
    "%matplotlib inline"
   ]
  },
  {
   "cell_type": "code",
   "execution_count": 2,
   "metadata": {
    "id": "dg0pOde4Oa6f"
   },
   "outputs": [],
   "source": [
    "EPOCHS = 20\n",
    "EMBEDDING_SIZE = 5\n",
    "BATCH_SIZE = 512\n",
    "NROF_LAYERS = 3\n",
    "NROF_NEURONS = 50\n",
    "DEEP_OUTPUT_SIZE = 50\n",
    "NROF_OUT_CLASSES = 1\n",
    "LEARNING_RATE = 3e-4\n",
    "FILE_PATH = r\"adult.csv\""
   ]
  },
  {
   "cell_type": "code",
   "execution_count": 3,
   "metadata": {
    "id": "WwNJG7AUOa6g"
   },
   "outputs": [],
   "source": [
    "data = pd.read_csv(FILE_PATH)"
   ]
  },
  {
   "cell_type": "code",
   "execution_count": 5,
   "metadata": {
    "colab": {
     "base_uri": "https://localhost:8080/"
    },
    "id": "sOzh4neJdggL",
    "outputId": "9b97918d-3fef-4147-bae6-a9f2eef0486a"
   },
   "outputs": [
    {
     "data": {
      "text/plain": [
       "(32561, 15)"
      ]
     },
     "execution_count": 5,
     "metadata": {},
     "output_type": "execute_result"
    }
   ],
   "source": [
    "data.shape"
   ]
  },
  {
   "cell_type": "code",
   "execution_count": 120,
   "metadata": {
    "colab": {
     "base_uri": "https://localhost:8080/",
     "height": 283
    },
    "id": "f9evrJmdO-rp",
    "outputId": "4e5b64b3-2123-45ab-ec76-6c8f42961236"
   },
   "outputs": [
    {
     "data": {
      "text/plain": [
       "<matplotlib.axes._subplots.AxesSubplot at 0x7fb7382da4d0>"
      ]
     },
     "execution_count": 120,
     "metadata": {
      "tags": []
     },
     "output_type": "execute_result"
    },
    {
     "data": {
      "image/png": "[encoded data removed]",
      "text/plain": [
       "<Figure size 432x288 with 1 Axes>"
      ]
     },
     "metadata": {
      "needs_background": "light",
      "tags": []
     },
     "output_type": "display_data"
    }
   ],
   "source": [
    "data['age'].hist()"
   ]
  },
  {
   "cell_type": "code",
   "execution_count": 6,
   "metadata": {
    "id": "E0d0EkEIPFk2"
   },
   "outputs": [],
   "source": [
    "data = data[data.age.lt(65)]"
   ]
  },
  {
   "cell_type": "code",
   "execution_count": 122,
   "metadata": {
    "colab": {
     "base_uri": "https://localhost:8080/",
     "height": 283
    },
    "id": "AKIBbfzgPMXF",
    "outputId": "189e2c37-8f77-486c-b80e-7d7f44ba7902"
   },
   "outputs": [
    {
     "data": {
      "text/plain": [
       "<matplotlib.axes._subplots.AxesSubplot at 0x7fb738256e50>"
      ]
     },
     "execution_count": 122,
     "metadata": {
      "tags": []
     },
     "output_type": "execute_result"
    },
    {
     "data": {
      "image/png": "[encoded data removed]",
      "text/plain": [
       "<Figure size 432x288 with 1 Axes>"
      ]
     },
     "metadata": {
      "needs_background": "light",
      "tags": []
     },
     "output_type": "display_data"
    }
   ],
   "source": [
    "data.age.hist()"
   ]
  },
  {
   "cell_type": "code",
   "execution_count": 7,
   "metadata": {
    "colab": {
     "base_uri": "https://localhost:8080/"
    },
    "id": "l_rnClclOa6g",
    "outputId": "e175b10f-c341-44b6-a111-47d6d9f2d06c"
   },
   "outputs": [
    {
     "data": {
      "text/plain": [
       " Private             22142\n",
       " Self-emp-not-inc     2335\n",
       " Local-gov            2015\n",
       " ?                    1491\n",
       " State-gov            1263\n",
       " Self-emp-inc         1026\n",
       " Federal-gov           937\n",
       " Without-pay             9\n",
       " Never-worked            7\n",
       "Name: workclass, dtype: int64"
      ]
     },
     "execution_count": 7,
     "metadata": {},
     "output_type": "execute_result"
    }
   ],
   "source": [
    "data.workclass.value_counts()"
   ]
  },
  {
   "cell_type": "code",
   "execution_count": 8,
   "metadata": {
    "id": "82vMP1B8PdDO"
   },
   "outputs": [],
   "source": [
    "data['workclass'] = data.workclass.replace(' ?', np.nan)\n",
    "data = data[~data.workclass.isin([' Without-pay', ' Never-worked'])]"
   ]
  },
  {
   "cell_type": "code",
   "execution_count": 9,
   "metadata": {
    "colab": {
     "base_uri": "https://localhost:8080/"
    },
    "id": "7F14iMSBOa6h",
    "outputId": "7d36d571-afea-4784-b296-d116a6f495d7"
   },
   "outputs": [
    {
     "data": {
      "text/plain": [
       " HS-grad         10062\n",
       " Some-college     7069\n",
       " Bachelors        5186\n",
       " Masters          1654\n",
       " Assoc-voc        1339\n",
       " 11th             1124\n",
       " Assoc-acdm       1049\n",
       " 10th              874\n",
       " 7th-8th           544\n",
       " Prof-school       536\n",
       " 9th               474\n",
       " 12th              426\n",
       " Doctorate         374\n",
       " 5th-6th           302\n",
       " 1st-4th           150\n",
       " Preschool          46\n",
       "Name: education, dtype: int64"
      ]
     },
     "execution_count": 9,
     "metadata": {},
     "output_type": "execute_result"
    }
   ],
   "source": [
    "data.education.value_counts()"
   ]
  },
  {
   "cell_type": "code",
   "execution_count": 126,
   "metadata": {
    "colab": {
     "base_uri": "https://localhost:8080/",
     "height": 283
    },
    "id": "NQE5Pg8kOa6h",
    "outputId": "d4f17ee7-c775-48c1-cbd0-db1eddc24155"
   },
   "outputs": [
    {
     "data": {
      "text/plain": [
       "<matplotlib.axes._subplots.AxesSubplot at 0x7fb7381e9110>"
      ]
     },
     "execution_count": 126,
     "metadata": {
      "tags": []
     },
     "output_type": "execute_result"
    },
    {
     "data": {
      "image/png": "[encoded data removed]",
      "text/plain": [
       "<Figure size 432x288 with 1 Axes>"
      ]
     },
     "metadata": {
      "needs_background": "light",
      "tags": []
     },
     "output_type": "display_data"
    }
   ],
   "source": [
    "data['education-num'].hist()"
   ]
  },
  {
   "cell_type": "code",
   "execution_count": 11,
   "metadata": {
    "id": "r8Y1KVjTSWJN"
   },
   "outputs": [],
   "source": [
    "data = data[data['education-num'].ge(6) & ~data.education.isin([' Preschool', ' 1st-4th'])]"
   ]
  },
  {
   "cell_type": "code",
   "execution_count": 12,
   "metadata": {
    "colab": {
     "base_uri": "https://localhost:8080/"
    },
    "id": "Ls30dkVBOa6i",
    "outputId": "b1f6330c-5aef-435a-9c28-5095a7106971"
   },
   "outputs": [
    {
     "data": {
      "text/plain": [
       " Married-civ-spouse       13244\n",
       " Never-married            10044\n",
       " Divorced                  4099\n",
       " Separated                  913\n",
       " Widowed                    579\n",
       " Married-spouse-absent      341\n",
       " Married-AF-spouse           22\n",
       "Name: marital-status, dtype: int64"
      ]
     },
     "execution_count": 12,
     "metadata": {},
     "output_type": "execute_result"
    }
   ],
   "source": [
    "data['marital-status'].value_counts()"
   ]
  },
  {
   "cell_type": "code",
   "execution_count": 13,
   "metadata": {
    "id": "QgpEFw2NT0Y8"
   },
   "outputs": [],
   "source": [
    "data = data[~data['marital-status'].isin([' Married-AF-spouse'])]"
   ]
  },
  {
   "cell_type": "code",
   "execution_count": 14,
   "metadata": {
    "colab": {
     "base_uri": "https://localhost:8080/"
    },
    "id": "iCVk1LWYOa6i",
    "outputId": "9c6d2b36-0316-489e-bb69-2c407283ae69"
   },
   "outputs": [
    {
     "data": {
      "text/plain": [
       " Prof-specialty       3895\n",
       " Exec-managerial      3770\n",
       " Craft-repair         3679\n",
       " Adm-clerical         3538\n",
       " Sales                3342\n",
       " Other-service        2821\n",
       " Machine-op-inspct    1677\n",
       " Transport-moving     1391\n",
       " ?                    1364\n",
       " Handlers-cleaners    1159\n",
       " Tech-support          882\n",
       " Farming-fishing       759\n",
       " Protective-serv       603\n",
       " Priv-house-serv        91\n",
       " Armed-Forces            9\n",
       "Name: occupation, dtype: int64"
      ]
     },
     "execution_count": 14,
     "metadata": {},
     "output_type": "execute_result"
    }
   ],
   "source": [
    "data['occupation'].value_counts()"
   ]
  },
  {
   "cell_type": "code",
   "execution_count": 15,
   "metadata": {
    "id": "gDBlOIO5UOck"
   },
   "outputs": [],
   "source": [
    "data['occupation'] = data.occupation.replace(' ?', np.nan)\n",
    "data = data[~data.occupation.isin([' Priv-house-serv', ' Armed-Forces'])]"
   ]
  },
  {
   "cell_type": "code",
   "execution_count": 16,
   "metadata": {
    "colab": {
     "base_uri": "https://localhost:8080/"
    },
    "id": "4dqGK20yOa6i",
    "outputId": "27150402-99e1-480d-9c7a-64a2b14b4246",
    "scrolled": true
   },
   "outputs": [
    {
     "data": {
      "text/plain": [
       " Husband           11612\n",
       " Not-in-family      7411\n",
       " Own-child          4791\n",
       " Unmarried          3081\n",
       " Wife               1425\n",
       " Other-relative      800\n",
       "Name: relationship, dtype: int64"
      ]
     },
     "execution_count": 16,
     "metadata": {},
     "output_type": "execute_result"
    }
   ],
   "source": [
    "data.relationship.value_counts()"
   ]
  },
  {
   "cell_type": "code",
   "execution_count": 17,
   "metadata": {
    "colab": {
     "base_uri": "https://localhost:8080/"
    },
    "id": "wA9Fy6jkOa6j",
    "outputId": "142e815a-82f3-4143-e683-296525cd94d5"
   },
   "outputs": [
    {
     "data": {
      "text/plain": [
       " White                 24861\n",
       " Black                  2821\n",
       " Asian-Pac-Islander      947\n",
       " Amer-Indian-Eskimo      275\n",
       " Other                   216\n",
       "Name: race, dtype: int64"
      ]
     },
     "execution_count": 17,
     "metadata": {},
     "output_type": "execute_result"
    }
   ],
   "source": [
    "data.race.value_counts()"
   ]
  },
  {
   "cell_type": "code",
   "execution_count": 18,
   "metadata": {
    "id": "X6BPj7LHVN6m"
   },
   "outputs": [],
   "source": [
    "data['race'] = data.race.replace(' Amer-Indian-Eskimo', ' Other')"
   ]
  },
  {
   "cell_type": "code",
   "execution_count": 19,
   "metadata": {
    "colab": {
     "base_uri": "https://localhost:8080/"
    },
    "id": "AlUj80m1Oa6j",
    "outputId": "6d458ce9-baa3-4d11-fca3-06a32526dbd7"
   },
   "outputs": [
    {
     "data": {
      "text/plain": [
       " Male      19440\n",
       " Female     9680\n",
       "Name: sex, dtype: int64"
      ]
     },
     "execution_count": 19,
     "metadata": {},
     "output_type": "execute_result"
    }
   ],
   "source": [
    "data.sex.value_counts()"
   ]
  },
  {
   "cell_type": "code",
   "execution_count": 136,
   "metadata": {
    "colab": {
     "base_uri": "https://localhost:8080/",
     "height": 265
    },
    "id": "pVq91FHqOa6j",
    "outputId": "6c18445b-d5e4-428c-fea6-f131f886fd50"
   },
   "outputs": [
    {
     "data": {
      "image/png": "[encoded data removed]",
      "text/plain": [
       "<Figure size 432x288 with 1 Axes>"
      ]
     },
     "metadata": {
      "needs_background": "light",
      "tags": []
     },
     "output_type": "display_data"
    }
   ],
   "source": [
    "data['hours-per-week'].hist();"
   ]
  },
  {
   "cell_type": "code",
   "execution_count": 20,
   "metadata": {
    "id": "rUYn9REEWhHw"
   },
   "outputs": [],
   "source": [
    "data = data[data['hours-per-week'].ge(20)]"
   ]
  },
  {
   "cell_type": "code",
   "execution_count": 21,
   "metadata": {
    "colab": {
     "base_uri": "https://localhost:8080/"
    },
    "id": "aWDLp3aEOa6k",
    "outputId": "193729b7-dba4-459d-f14b-e3e96e4d6e97"
   },
   "outputs": [
    {
     "data": {
      "text/plain": [
       " United-States                 25371\n",
       " ?                               490\n",
       " Mexico                          290\n",
       " Philippines                     166\n",
       " Germany                         120\n",
       " Canada                           99\n",
       " India                            92\n",
       " Puerto-Rico                      79\n",
       " England                          77\n",
       " Jamaica                          73\n",
       " South                            71\n",
       " Cuba                             68\n",
       " China                            59\n",
       " Japan                            58\n",
       " El-Salvador                      53\n",
       " Vietnam                          53\n",
       " Columbia                         50\n",
       " Italy                            50\n",
       " Poland                           48\n",
       " Taiwan                           46\n",
       " Dominican-Republic               43\n",
       " Iran                             42\n",
       " Haiti                            35\n",
       " Nicaragua                        27\n",
       " Guatemala                        27\n",
       " Peru                             26\n",
       " France                           25\n",
       " Greece                           23\n",
       " Ecuador                          23\n",
       " Ireland                          22\n",
       " Portugal                         18\n",
       " Hong                             16\n",
       " Cambodia                         15\n",
       " Laos                             14\n",
       " Thailand                         14\n",
       " Yugoslavia                       13\n",
       " Outlying-US(Guam-USVI-etc)       13\n",
       " Trinadad&Tobago                  13\n",
       " Scotland                         12\n",
       " Honduras                         10\n",
       " Hungary                           8\n",
       " Holand-Netherlands                1\n",
       "Name: native-country, dtype: int64"
      ]
     },
     "execution_count": 21,
     "metadata": {},
     "output_type": "execute_result"
    }
   ],
   "source": [
    "data['native-country'].value_counts()"
   ]
  },
  {
   "cell_type": "code",
   "execution_count": 22,
   "metadata": {
    "id": "3007Gkl2YmI_"
   },
   "outputs": [],
   "source": [
    "continents = {'US&Canada': [' United-States', ' Puerto-Rico', ' Haiti', ' Outlying-US(Guam-USVI-etc)', ' Canada'],\n",
    "             'Latin&SA': [' Mexico', ' El-Salvador', 'Cuba', ' Jamaica', ' Dominican-Republic', \n",
    "                       ' Guatemala', ' Honduras', ' Trinadad&Tobago', ' Columbia', ' Nicaragua', ' Peru', ' Ecuador'],\n",
    "             'Asia': [' Philippines', ' India', ' South', ' China', ' Vietnam', ' Japan', 'Taiwan', ' Iran',\n",
    "                      ' Hong', ' Cambodia', ' Laos', ' Thailand'],\n",
    "             'Europe': [' Germany', ' England', ' Italy', ' Poland', ' Portugal', ' Greece', ' France', ' Ireland', ' Yugoslavia',\n",
    "                        ' Hungary', ' Scotland', ' Holand-Netherlands']\n",
    "}"
   ]
  },
  {
   "cell_type": "code",
   "execution_count": 23,
   "metadata": {
    "id": "EYmSzB_9bwny"
   },
   "outputs": [],
   "source": [
    "countries = {}\n",
    "for continent in continents:\n",
    "      for country in continents[continent]:\n",
    "            countries[country] = continent"
   ]
  },
  {
   "cell_type": "code",
   "execution_count": 24,
   "metadata": {
    "id": "xViszCgLXyB-"
   },
   "outputs": [],
   "source": [
    "data['native-country'] = data['native-country'].replace(' ?', np.nan)\n",
    "data['native-country'] = data['native-country'].map(countries)"
   ]
  },
  {
   "cell_type": "code",
   "execution_count": 25,
   "metadata": {
    "colab": {
     "base_uri": "https://localhost:8080/"
    },
    "id": "CsZZW3Z7cLdl",
    "outputId": "146d543e-46f0-43f0-e472-80811b911340"
   },
   "outputs": [
    {
     "data": {
      "text/plain": [
       "US&Canada    25597\n",
       "Latin&SA       635\n",
       "Asia           600\n",
       "Europe         417\n",
       "Name: native-country, dtype: int64"
      ]
     },
     "execution_count": 25,
     "metadata": {},
     "output_type": "execute_result"
    }
   ],
   "source": [
    "data['native-country'].value_counts()"
   ]
  },
  {
   "cell_type": "code",
   "execution_count": 147,
   "metadata": {
    "colab": {
     "base_uri": "https://localhost:8080/",
     "height": 296
    },
    "id": "ivfmv76TdAGf",
    "outputId": "8a6bd0b2-3a0c-4a02-eb64-e64a3ca4979e"
   },
   "outputs": [
    {
     "data": {
      "text/plain": [
       "<matplotlib.axes._subplots.AxesSubplot at 0x7fb7380c4c50>"
      ]
     },
     "execution_count": 147,
     "metadata": {
      "tags": []
     },
     "output_type": "execute_result"
    },
    {
     "data": {
      "image/png": "[encoded data removed]",
      "text/plain": [
       "<Figure size 432x288 with 1 Axes>"
      ]
     },
     "metadata": {
      "needs_background": "light",
      "tags": []
     },
     "output_type": "display_data"
    }
   ],
   "source": [
    "data.fnlwgt.hist()"
   ]
  },
  {
   "cell_type": "code",
   "execution_count": 152,
   "metadata": {
    "colab": {
     "base_uri": "https://localhost:8080/",
     "height": 283
    },
    "id": "P7BsizF5dTpj",
    "outputId": "c8e74b62-42b8-45d4-d668-c888a69008e0"
   },
   "outputs": [
    {
     "data": {
      "text/plain": [
       "<matplotlib.axes._subplots.AxesSubplot at 0x7fb737eefc50>"
      ]
     },
     "execution_count": 152,
     "metadata": {
      "tags": []
     },
     "output_type": "execute_result"
    },
    {
     "data": {
      "image/png": "[encoded data removed]",
      "text/plain": [
       "<Figure size 432x288 with 1 Axes>"
      ]
     },
     "metadata": {
      "needs_background": "light",
      "tags": []
     },
     "output_type": "display_data"
    }
   ],
   "source": [
    "data['capital-gain'].hist()"
   ]
  },
  {
   "cell_type": "code",
   "execution_count": 151,
   "metadata": {
    "colab": {
     "base_uri": "https://localhost:8080/",
     "height": 283
    },
    "id": "LshXJxazdKAs",
    "outputId": "bf5d419d-0b18-44fd-d506-c9f31b1f8566"
   },
   "outputs": [
    {
     "data": {
      "text/plain": [
       "<matplotlib.axes._subplots.AxesSubplot at 0x7fb737f61990>"
      ]
     },
     "execution_count": 151,
     "metadata": {
      "tags": []
     },
     "output_type": "execute_result"
    },
    {
     "data": {
      "image/png": "[encoded data removed]",
      "text/plain": [
       "<Figure size 432x288 with 1 Axes>"
      ]
     },
     "metadata": {
      "needs_background": "light",
      "tags": []
     },
     "output_type": "display_data"
    }
   ],
   "source": [
    "data['capital-loss'].hist()"
   ]
  },
  {
   "cell_type": "code",
   "execution_count": 26,
   "metadata": {
    "colab": {
     "base_uri": "https://localhost:8080/"
    },
    "id": "S6xB7-2DdViZ",
    "outputId": "79f9f5ef-1f70-4b3e-8978-9b41fcd10d72"
   },
   "outputs": [
    {
     "data": {
      "text/plain": [
       "<50k     20564\n",
       ">=50k     7289\n",
       "Name: salary, dtype: int64"
      ]
     },
     "execution_count": 26,
     "metadata": {},
     "output_type": "execute_result"
    }
   ],
   "source": [
    "data.salary.value_counts()"
   ]
  },
  {
   "cell_type": "code",
   "execution_count": 27,
   "metadata": {
    "colab": {
     "base_uri": "https://localhost:8080/"
    },
    "id": "MQYXAW7AOa6k",
    "outputId": "db8323eb-14f3-4d4c-d1cd-9f56f5920ac2"
   },
   "outputs": [
    {
     "data": {
      "text/plain": [
       "age               0.000000\n",
       "workclass         0.041899\n",
       "fnlwgt            0.000000\n",
       "education         0.000000\n",
       "education-num     0.000000\n",
       "marital-status    0.000000\n",
       "occupation        0.049833\n",
       "relationship      0.000000\n",
       "race              0.000000\n",
       "sex               0.000000\n",
       "capital-gain      0.000000\n",
       "capital-loss      0.000000\n",
       "hours-per-week    0.000000\n",
       "native-country    0.021685\n",
       "salary            0.000000\n",
       "dtype: float64"
      ]
     },
     "execution_count": 27,
     "metadata": {},
     "output_type": "execute_result"
    }
   ],
   "source": [
    "data.isna().mean()"
   ]
  },
  {
   "cell_type": "code",
   "execution_count": 28,
   "metadata": {
    "colab": {
     "base_uri": "https://localhost:8080/"
    },
    "id": "fI-fG4omOa6l",
    "outputId": "7ac3e9e3-0992-43f7-c717-20fcb5602c9a"
   },
   "outputs": [
    {
     "data": {
      "text/plain": [
       "age               0.0\n",
       "workclass         0.0\n",
       "fnlwgt            0.0\n",
       "education         0.0\n",
       "education-num     0.0\n",
       "marital-status    0.0\n",
       "occupation        0.0\n",
       "relationship      0.0\n",
       "race              0.0\n",
       "sex               0.0\n",
       "capital-gain      0.0\n",
       "capital-loss      0.0\n",
       "hours-per-week    0.0\n",
       "native-country    0.0\n",
       "salary            0.0\n",
       "dtype: float64"
      ]
     },
     "execution_count": 28,
     "metadata": {},
     "output_type": "execute_result"
    }
   ],
   "source": [
    "data = data.dropna()\n",
    "data.isna().mean()"
   ]
  },
  {
   "cell_type": "code",
   "execution_count": 29,
   "metadata": {
    "colab": {
     "base_uri": "https://localhost:8080/"
    },
    "id": "hArNIix5dcRF",
    "outputId": "282e3c8d-e6e0-4c4e-e75f-8d27dcf17068"
   },
   "outputs": [
    {
     "data": {
      "text/plain": [
       "(25893, 15)"
      ]
     },
     "execution_count": 29,
     "metadata": {},
     "output_type": "execute_result"
    }
   ],
   "source": [
    "data.shape"
   ]
  },
  {
   "cell_type": "code",
   "execution_count": 30,
   "metadata": {},
   "outputs": [],
   "source": [
    "data.to_csv(FILE_PATH, index=False)"
   ]
  },
  {
   "cell_type": "code",
   "execution_count": 37,
   "metadata": {},
   "outputs": [],
   "source": [
    "train_adult = data.sample(frac=0.8, random_state=10)\n",
    "valid_adult = data[~data.index.isin(train_adult.index)]"
   ]
  },
  {
   "cell_type": "code",
   "execution_count": 40,
   "metadata": {},
   "outputs": [],
   "source": [
    "with open('train_adult.pickle', 'wb') as f:\n",
    "    pickle.dump([train_adult, {}, {}], f)\n",
    "    \n",
    "with open('valid_adult.pickle', 'wb') as f:\n",
    "    pickle.dump([valid_adult, {}, {}], f)"
   ]
  },
  {
   "cell_type": "code",
   "execution_count": 7,
   "metadata": {},
   "outputs": [],
   "source": [
    "preprocessing()"
   ]
  },
  {
   "cell_type": "code",
   "execution_count": 3,
   "metadata": {},
   "outputs": [
    {
     "name": "stdout",
     "output_type": "stream",
     "text": [
      "Run train ...\n",
      "EPOCH 0 STEP 20 : train_loss: 0.753891 train_acc: 0.597656\n",
      "EPOCH 0 STEP 40 : train_loss: 0.682948 train_acc: 0.644531\n",
      "EPOCH 0 : valid_acc: 0.645299\n",
      "EPOCH 1 STEP 60 : train_loss: 0.566742 train_acc: 0.701172\n",
      "EPOCH 1 STEP 80 : train_loss: 0.450507 train_acc: 0.787109\n",
      "EPOCH 1 : valid_acc: 0.790598\n",
      "EPOCH 2 STEP 100 : train_loss: 0.408783 train_acc: 0.798828\n",
      "EPOCH 2 STEP 120 : train_loss: 0.343100 train_acc: 0.843750\n",
      "EPOCH 2 : valid_acc: 0.803419\n",
      "EPOCH 3 STEP 140 : train_loss: 0.339100 train_acc: 0.820312\n",
      "EPOCH 3 STEP 160 : train_loss: 0.351077 train_acc: 0.818359\n",
      "EPOCH 3 : valid_acc: 0.833333\n",
      "EPOCH 4 STEP 180 : train_loss: 0.357219 train_acc: 0.828125\n",
      "EPOCH 4 STEP 200 : train_loss: 0.289255 train_acc: 0.873047\n",
      "EPOCH 4 : valid_acc: 0.829060\n",
      "EPOCH 5 STEP 220 : train_loss: 0.324636 train_acc: 0.837891\n",
      "EPOCH 5 STEP 240 : train_loss: 0.346514 train_acc: 0.841797\n",
      "EPOCH 5 : valid_acc: 0.833333\n",
      "EPOCH 6 STEP 260 : train_loss: 0.352484 train_acc: 0.837891\n",
      "EPOCH 6 STEP 280 : train_loss: 0.373624 train_acc: 0.820312\n",
      "EPOCH 6 : valid_acc: 0.841880\n",
      "EPOCH 7 STEP 300 : train_loss: 0.330575 train_acc: 0.824219\n",
      "EPOCH 7 STEP 320 : train_loss: 0.322203 train_acc: 0.853516\n",
      "EPOCH 7 : valid_acc: 0.824786\n",
      "EPOCH 8 STEP 340 : train_loss: 0.293432 train_acc: 0.851562\n",
      "EPOCH 8 STEP 360 : train_loss: 0.303514 train_acc: 0.865234\n",
      "EPOCH 8 : valid_acc: 0.811966\n",
      "EPOCH 9 STEP 380 : train_loss: 0.340790 train_acc: 0.841797\n",
      "EPOCH 9 STEP 400 : train_loss: 0.324925 train_acc: 0.855469\n",
      "EPOCH 9 : valid_acc: 0.863248\n",
      "EPOCH 10 STEP 420 : train_loss: 0.334294 train_acc: 0.849609\n",
      "EPOCH 10 STEP 440 : train_loss: 0.308055 train_acc: 0.841797\n",
      "EPOCH 10 : valid_acc: 0.880342\n",
      "EPOCH 11 STEP 460 : train_loss: 0.336468 train_acc: 0.851562\n",
      "EPOCH 11 STEP 480 : train_loss: 0.326809 train_acc: 0.832031\n",
      "EPOCH 11 : valid_acc: 0.803419\n",
      "EPOCH 12 STEP 500 : train_loss: 0.320559 train_acc: 0.851562\n",
      "EPOCH 12 STEP 520 : train_loss: 0.316179 train_acc: 0.847656\n",
      "EPOCH 12 : valid_acc: 0.841880\n",
      "EPOCH 13 STEP 540 : train_loss: 0.348959 train_acc: 0.810547\n",
      "EPOCH 13 STEP 560 : train_loss: 0.283055 train_acc: 0.863281\n",
      "EPOCH 13 : valid_acc: 0.833333\n",
      "EPOCH 14 STEP 580 : train_loss: 0.330108 train_acc: 0.857422\n",
      "EPOCH 14 STEP 600 : train_loss: 0.328855 train_acc: 0.845703\n",
      "EPOCH 14 : valid_acc: 0.871795\n",
      "EPOCH 15 STEP 620 : train_loss: 0.321720 train_acc: 0.841797\n",
      "EPOCH 15 STEP 640 : train_loss: 0.296715 train_acc: 0.863281\n",
      "EPOCH 15 : valid_acc: 0.837607\n",
      "EPOCH 16 STEP 660 : train_loss: 0.311200 train_acc: 0.855469\n",
      "EPOCH 16 STEP 680 : train_loss: 0.336980 train_acc: 0.847656\n",
      "EPOCH 16 : valid_acc: 0.824786\n",
      "EPOCH 17 STEP 700 : train_loss: 0.311681 train_acc: 0.865234\n",
      "EPOCH 17 STEP 720 : train_loss: 0.315633 train_acc: 0.851562\n",
      "EPOCH 17 : valid_acc: 0.837607\n",
      "EPOCH 18 STEP 740 : train_loss: 0.297787 train_acc: 0.873047\n",
      "EPOCH 18 STEP 760 : train_loss: 0.323795 train_acc: 0.849609\n",
      "EPOCH 18 : valid_acc: 0.850427\n",
      "EPOCH 19 STEP 780 : train_loss: 0.327673 train_acc: 0.841797\n",
      "EPOCH 19 STEP 800 : train_loss: 0.332592 train_acc: 0.841797\n",
      "EPOCH 19 STEP 820 : train_loss: 0.292485 train_acc: 0.871795\n",
      "EPOCH 19 : valid_acc: 0.871795\n"
     ]
    }
   ],
   "source": [
    "deep_fm = DeepFM()\n",
    "deep_fm.run_train()"
   ]
  },
  {
   "cell_type": "code",
   "execution_count": 4,
   "metadata": {},
   "outputs": [
    {
     "data": {
      "text/plain": [
       "Reusing TensorBoard on port 6006 (pid 7472), started 0:19:06 ago. (Use '!kill 7472' to kill it.)"
      ]
     },
     "metadata": {},
     "output_type": "display_data"
    },
    {
     "data": {
      "text/html": [
       "\n",
       "      <iframe id=\"tensorboard-frame-598c77d34d504cff\" width=\"100%\" height=\"800\" frameborder=\"0\">\n",
       "      </iframe>\n",
       "      <script>\n",
       "        (function() {\n",
       "          const frame = document.getElementById(\"tensorboard-frame-598c77d34d504cff\");\n",
       "          const url = new URL(\"/\", window.location);\n",
       "          const port = 6006;\n",
       "          if (port) {\n",
       "            url.port = port;\n",
       "          }\n",
       "          frame.src = url;\n",
       "        })();\n",
       "      </script>\n",
       "    "
      ],
      "text/plain": [
       "<IPython.core.display.HTML object>"
      ]
     },
     "metadata": {},
     "output_type": "display_data"
    }
   ],
   "source": [
    "%tensorboard --logdir logs"
   ]
  },
  {
   "cell_type": "code",
   "execution_count": null,
   "metadata": {},
   "outputs": [],
   "source": []
  }
 ],
 "metadata": {
  "colab": {
   "name": "DeepFM.ipynb",
   "provenance": []
  },
  "kernelspec": {
   "display_name": "Python 3",
   "language": "python",
   "name": "python3"
  },
  "language_info": {
   "codemirror_mode": {
    "name": "ipython",
    "version": 3
   },
   "file_extension": ".py",
   "mimetype": "text/x-python",
   "name": "python",
   "nbconvert_exporter": "python",
   "pygments_lexer": "ipython3",
   "version": "3.8.5"
  }
 },
 "nbformat": 4,
 "nbformat_minor": 1
}
